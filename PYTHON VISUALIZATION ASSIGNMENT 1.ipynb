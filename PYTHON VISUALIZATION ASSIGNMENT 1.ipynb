{
 "cells": [
  {
   "cell_type": "code",
   "execution_count": 1,
   "id": "bd576473",
   "metadata": {},
   "outputs": [],
   "source": [
    "import numpy as np\n",
    "import pandas as pd\n",
    "import matplotlib.pyplot as plt"
   ]
  },
  {
   "cell_type": "markdown",
   "id": "b1a5078d",
   "metadata": {},
   "source": [
    "### Q.1 Convert a 1D array to a 2D array with 2 rows "
   ]
  },
  {
   "cell_type": "code",
   "execution_count": 5,
   "id": "08d33431",
   "metadata": {},
   "outputs": [
    {
     "name": "stdout",
     "output_type": "stream",
     "text": [
      "[[1 2 3 4 5 6]]\n",
      "[[1 2 3]\n",
      " [4 5 6]]\n"
     ]
    }
   ],
   "source": [
    "c = np.array([1,2,3,4,5,6],ndmin = 2)\n",
    "print(c)\n",
    "print(c.reshape(2,3))"
   ]
  },
  {
   "cell_type": "markdown",
   "id": "3bca91a3",
   "metadata": {},
   "source": [
    "### Q.2 Get the common items between a and b "
   ]
  },
  {
   "cell_type": "code",
   "execution_count": 16,
   "id": "27b93ee3",
   "metadata": {},
   "outputs": [
    {
     "name": "stdout",
     "output_type": "stream",
     "text": [
      "[2 4]\n"
     ]
    }
   ],
   "source": [
    "a = np.array([1,2,3,2,3,4,3,4,5,6])\n",
    "b = np.array([7,2,10,2,7,4,9,4,9,8]) \n",
    "print(np.intersect1d(a,b))"
   ]
  },
  {
   "cell_type": "markdown",
   "id": "1a1f6e8e",
   "metadata": {},
   "source": [
    "### Q.3 Get all items between 5 and 10 from a. \n"
   ]
  },
  {
   "cell_type": "code",
   "execution_count": 9,
   "id": "c6ee00b8",
   "metadata": {},
   "outputs": [],
   "source": [
    "a = np.array([2, 6, 1, 9, 10, 3, 27]) "
   ]
  },
  {
   "cell_type": "code",
   "execution_count": 14,
   "id": "b13adef2",
   "metadata": {},
   "outputs": [
    {
     "data": {
      "text/plain": [
       "array([ 6,  9, 10])"
      ]
     },
     "execution_count": 14,
     "metadata": {},
     "output_type": "execute_result"
    }
   ],
   "source": [
    "x=a[np.logical_and(a>5, a<=10)]\n",
    "x"
   ]
  },
  {
   "cell_type": "markdown",
   "id": "c75d40a8",
   "metadata": {},
   "source": [
    "### Q.4 Limit the number of items printed in python NumPy array a to a maximum of 6 elements."
   ]
  },
  {
   "cell_type": "code",
   "execution_count": 22,
   "id": "e8536a07",
   "metadata": {},
   "outputs": [
    {
     "data": {
      "text/plain": [
       "array([ 0,  1,  2, ..., 12, 13, 14])"
      ]
     },
     "execution_count": 22,
     "metadata": {},
     "output_type": "execute_result"
    }
   ],
   "source": [
    "arr = np.array([0, 1, 2, 3, 4, 5, 6, 7, 8, 9, 10, 11, 12, 13, 14])\n",
    "np.set_printoptions(threshold=3)\n",
    "np.arange(15)"
   ]
  },
  {
   "cell_type": "markdown",
   "id": "8ac7f082",
   "metadata": {},
   "source": [
    "# pandas"
   ]
  },
  {
   "cell_type": "markdown",
   "id": "0d134123",
   "metadata": {},
   "source": [
    "### 1. Compute the minimum, 25th percentile, median, 75th, and maximum of ser. "
   ]
  },
  {
   "cell_type": "code",
   "execution_count": 22,
   "id": "1c6ac645",
   "metadata": {},
   "outputs": [
    {
     "name": "stdout",
     "output_type": "stream",
     "text": [
      "Main Series :\n",
      "0   -5.999062\n",
      "1    2.370722\n",
      "2    5.612143\n",
      "3   -0.009744\n",
      "4    4.925283\n",
      "5    3.056875\n",
      "6    1.884719\n",
      "7   -3.280173\n",
      "dtype: float64\n",
      "\n",
      "Minimum, 25th percentile, median, 75th, and maximum of a given series:\n",
      "[-5.99906189 -0.82735144  2.12772015  3.52397731  5.61214321]\n"
     ]
    }
   ],
   "source": [
    "state = np.random.RandomState(100)\n",
    "series = pd.Series(state.normal(1,4,8))\n",
    "print(\"Main Series :\")\n",
    "print(series)\n",
    "result = np.percentile(series,q = [0,25,50,75,100])\n",
    "print(\"\\nMinimum, 25th percentile, median, 75th, and maximum of a given series:\")\n",
    "print(result)"
   ]
  },
  {
   "cell_type": "markdown",
   "id": "98c01468",
   "metadata": {},
   "source": [
    "###  2. Creating A Pandas Data Frame and Using Sample Data Sets "
   ]
  },
  {
   "cell_type": "code",
   "execution_count": 24,
   "id": "6d37320b",
   "metadata": {},
   "outputs": [
    {
     "data": {
      "text/html": [
       "<div>\n",
       "<style scoped>\n",
       "    .dataframe tbody tr th:only-of-type {\n",
       "        vertical-align: middle;\n",
       "    }\n",
       "\n",
       "    .dataframe tbody tr th {\n",
       "        vertical-align: top;\n",
       "    }\n",
       "\n",
       "    .dataframe thead th {\n",
       "        text-align: right;\n",
       "    }\n",
       "</style>\n",
       "<table border=\"1\" class=\"dataframe\">\n",
       "  <thead>\n",
       "    <tr style=\"text-align: right;\">\n",
       "      <th></th>\n",
       "      <th>first name</th>\n",
       "      <th>Age</th>\n",
       "    </tr>\n",
       "  </thead>\n",
       "  <tbody>\n",
       "    <tr>\n",
       "      <th>2</th>\n",
       "      <td>Sarthak</td>\n",
       "      <td>22</td>\n",
       "    </tr>\n",
       "    <tr>\n",
       "      <th>3</th>\n",
       "      <td>Anil</td>\n",
       "      <td>36</td>\n",
       "    </tr>\n",
       "    <tr>\n",
       "      <th>0</th>\n",
       "      <td>Sandeep</td>\n",
       "      <td>35</td>\n",
       "    </tr>\n",
       "  </tbody>\n",
       "</table>\n",
       "</div>"
      ],
      "text/plain": [
       "  first name Age\n",
       "2    Sarthak  22\n",
       "3       Anil  36\n",
       "0    Sandeep  35"
      ]
     },
     "execution_count": 24,
     "metadata": {},
     "output_type": "execute_result"
    }
   ],
   "source": [
    "dictt_1 = {\n",
    "    \"first name\" : [\"Sandeep\",\"Mitesh\",\"Sarthak\",\"Anil\"],\n",
    "    \"Age\" : [\"35\",\"28\",\"22\",\"36\"]\n",
    "}\n",
    "dictt_1\n",
    "\n",
    "a = pd.DataFrame(dictt_1)\n",
    "a.sample(n = 3)"
   ]
  },
  {
   "cell_type": "markdown",
   "id": "40c849f6",
   "metadata": {},
   "source": [
    "###  3. Using NumPy, create a Pandas Data Frame with five rows and three columns. "
   ]
  },
  {
   "cell_type": "code",
   "execution_count": 25,
   "id": "dc8f6ea7",
   "metadata": {},
   "outputs": [
    {
     "name": "stdout",
     "output_type": "stream",
     "text": [
      "      Column_1 Column_2 Column_3\n",
      "Row_1       15       22       43\n",
      "Row_2     good  morning      all\n"
     ]
    }
   ],
   "source": [
    "x = np.array([[15, 22, 43], \n",
    "                       [\"good\", \"morning\", \"all\"]])\n",
    "y = pd.DataFrame( data = x , index = [\"Row_1\", \"Row_2\"], columns = [\"Column_1\",\"Column_2\", \"Column_3\",])\n",
    "                                                                                    \n",
    "print(y)"
   ]
  },
  {
   "cell_type": "markdown",
   "id": "4da04992",
   "metadata": {},
   "source": [
    "### 4. For a Pandas Data Frame created from a NumPy array, what is the default behavior for the labels for the columns? For the rows?"
   ]
  },
  {
   "cell_type": "code",
   "execution_count": 17,
   "id": "f414824d",
   "metadata": {},
   "outputs": [],
   "source": [
    "# In pandas data frames, each row also has a name. By default, this label is just the row number. \n",
    "# However, you can set one of your columns to be the index of your DataFrame, which means that its values will be used \n",
    "# as row labels."
   ]
  },
  {
   "cell_type": "markdown",
   "id": "efecfb6a",
   "metadata": {},
   "source": [
    "### 5. take csv file contains at least 10,000 rows and 12 columns which numerical and text values according to that continue following steps. "
   ]
  },
  {
   "cell_type": "code",
   "execution_count": 25,
   "id": "6828e8df",
   "metadata": {
    "scrolled": false
   },
   "outputs": [
    {
     "data": {
      "text/html": [
       "<div>\n",
       "<style scoped>\n",
       "    .dataframe tbody tr th:only-of-type {\n",
       "        vertical-align: middle;\n",
       "    }\n",
       "\n",
       "    .dataframe tbody tr th {\n",
       "        vertical-align: top;\n",
       "    }\n",
       "\n",
       "    .dataframe thead th {\n",
       "        text-align: right;\n",
       "    }\n",
       "</style>\n",
       "<table border=\"1\" class=\"dataframe\">\n",
       "  <thead>\n",
       "    <tr style=\"text-align: right;\">\n",
       "      <th></th>\n",
       "      <th>Row ID</th>\n",
       "      <th>OrderID</th>\n",
       "      <th>Order Date</th>\n",
       "      <th>Ship Date</th>\n",
       "      <th>Ship Mode</th>\n",
       "      <th>Customer ID</th>\n",
       "      <th>Customer Name</th>\n",
       "      <th>Segment</th>\n",
       "      <th>Country/Region</th>\n",
       "      <th>City</th>\n",
       "      <th>...</th>\n",
       "      <th>Postal Code</th>\n",
       "      <th>Region</th>\n",
       "      <th>Product ID</th>\n",
       "      <th>Category</th>\n",
       "      <th>Sub-Category</th>\n",
       "      <th>Product Name</th>\n",
       "      <th>Sales</th>\n",
       "      <th>Quantity</th>\n",
       "      <th>Discount</th>\n",
       "      <th>Profit</th>\n",
       "    </tr>\n",
       "  </thead>\n",
       "  <tbody>\n",
       "    <tr>\n",
       "      <th>0</th>\n",
       "      <td>1</td>\n",
       "      <td>US-2020-103800</td>\n",
       "      <td>2020-01-03</td>\n",
       "      <td>2020-01-07</td>\n",
       "      <td>Standard Class</td>\n",
       "      <td>DP-13000</td>\n",
       "      <td>Darren Powers</td>\n",
       "      <td>Consumer</td>\n",
       "      <td>United States</td>\n",
       "      <td>Houston</td>\n",
       "      <td>...</td>\n",
       "      <td>77095</td>\n",
       "      <td>Central</td>\n",
       "      <td>OFF-PA-10000174</td>\n",
       "      <td>Office Supplies</td>\n",
       "      <td>Paper</td>\n",
       "      <td>Message Book, Wirebound, Four 5 1/2\" X 4\" Form...</td>\n",
       "      <td>16.448</td>\n",
       "      <td>2</td>\n",
       "      <td>0.2</td>\n",
       "      <td>5.5512</td>\n",
       "    </tr>\n",
       "    <tr>\n",
       "      <th>1</th>\n",
       "      <td>2</td>\n",
       "      <td>US-2020-112326</td>\n",
       "      <td>2020-01-04</td>\n",
       "      <td>2020-01-08</td>\n",
       "      <td>Standard Class</td>\n",
       "      <td>PO-19195</td>\n",
       "      <td>Phillina Ober</td>\n",
       "      <td>Home Office</td>\n",
       "      <td>United States</td>\n",
       "      <td>Naperville</td>\n",
       "      <td>...</td>\n",
       "      <td>60540</td>\n",
       "      <td>Central</td>\n",
       "      <td>OFF-BI-10004094</td>\n",
       "      <td>Office Supplies</td>\n",
       "      <td>Binders</td>\n",
       "      <td>GBC Standard Plastic Binding Systems Combs</td>\n",
       "      <td>3.540</td>\n",
       "      <td>2</td>\n",
       "      <td>0.8</td>\n",
       "      <td>-5.4870</td>\n",
       "    </tr>\n",
       "    <tr>\n",
       "      <th>2</th>\n",
       "      <td>3</td>\n",
       "      <td>US-2020-112326</td>\n",
       "      <td>2020-01-04</td>\n",
       "      <td>2020-01-08</td>\n",
       "      <td>Standard Class</td>\n",
       "      <td>PO-19195</td>\n",
       "      <td>Phillina Ober</td>\n",
       "      <td>Home Office</td>\n",
       "      <td>United States</td>\n",
       "      <td>Naperville</td>\n",
       "      <td>...</td>\n",
       "      <td>60540</td>\n",
       "      <td>Central</td>\n",
       "      <td>OFF-LA-10003223</td>\n",
       "      <td>Office Supplies</td>\n",
       "      <td>Labels</td>\n",
       "      <td>Avery 508</td>\n",
       "      <td>11.784</td>\n",
       "      <td>3</td>\n",
       "      <td>0.2</td>\n",
       "      <td>4.2717</td>\n",
       "    </tr>\n",
       "    <tr>\n",
       "      <th>3</th>\n",
       "      <td>4</td>\n",
       "      <td>US-2020-112326</td>\n",
       "      <td>2020-01-04</td>\n",
       "      <td>2020-01-08</td>\n",
       "      <td>Standard Class</td>\n",
       "      <td>PO-19195</td>\n",
       "      <td>Phillina Ober</td>\n",
       "      <td>Home Office</td>\n",
       "      <td>United States</td>\n",
       "      <td>Naperville</td>\n",
       "      <td>...</td>\n",
       "      <td>60540</td>\n",
       "      <td>Central</td>\n",
       "      <td>OFF-ST-10002743</td>\n",
       "      <td>Office Supplies</td>\n",
       "      <td>Storage</td>\n",
       "      <td>SAFCO Boltless Steel Shelving</td>\n",
       "      <td>272.736</td>\n",
       "      <td>3</td>\n",
       "      <td>0.2</td>\n",
       "      <td>-64.7748</td>\n",
       "    </tr>\n",
       "    <tr>\n",
       "      <th>4</th>\n",
       "      <td>5</td>\n",
       "      <td>US-2020-141817</td>\n",
       "      <td>2020-01-05</td>\n",
       "      <td>2020-01-12</td>\n",
       "      <td>Standard Class</td>\n",
       "      <td>MB-18085</td>\n",
       "      <td>Mick Brown</td>\n",
       "      <td>Consumer</td>\n",
       "      <td>United States</td>\n",
       "      <td>Philadelphia</td>\n",
       "      <td>...</td>\n",
       "      <td>19143</td>\n",
       "      <td>East</td>\n",
       "      <td>OFF-AR-10003478</td>\n",
       "      <td>Office Supplies</td>\n",
       "      <td>Art</td>\n",
       "      <td>Avery Hi-Liter EverBold Pen Style Fluorescent ...</td>\n",
       "      <td>19.536</td>\n",
       "      <td>3</td>\n",
       "      <td>0.2</td>\n",
       "      <td>4.8840</td>\n",
       "    </tr>\n",
       "    <tr>\n",
       "      <th>...</th>\n",
       "      <td>...</td>\n",
       "      <td>...</td>\n",
       "      <td>...</td>\n",
       "      <td>...</td>\n",
       "      <td>...</td>\n",
       "      <td>...</td>\n",
       "      <td>...</td>\n",
       "      <td>...</td>\n",
       "      <td>...</td>\n",
       "      <td>...</td>\n",
       "      <td>...</td>\n",
       "      <td>...</td>\n",
       "      <td>...</td>\n",
       "      <td>...</td>\n",
       "      <td>...</td>\n",
       "      <td>...</td>\n",
       "      <td>...</td>\n",
       "      <td>...</td>\n",
       "      <td>...</td>\n",
       "      <td>...</td>\n",
       "      <td>...</td>\n",
       "    </tr>\n",
       "    <tr>\n",
       "      <th>10189</th>\n",
       "      <td>10190</td>\n",
       "      <td>US-2023-143259</td>\n",
       "      <td>2023-12-30</td>\n",
       "      <td>2024-01-03</td>\n",
       "      <td>Standard Class</td>\n",
       "      <td>PO-18865</td>\n",
       "      <td>Patrick O'Donnell</td>\n",
       "      <td>Consumer</td>\n",
       "      <td>United States</td>\n",
       "      <td>New York City</td>\n",
       "      <td>...</td>\n",
       "      <td>10009</td>\n",
       "      <td>East</td>\n",
       "      <td>OFF-BI-10003684</td>\n",
       "      <td>Office Supplies</td>\n",
       "      <td>Binders</td>\n",
       "      <td>Wilson Jones Legal Size Ring Binders</td>\n",
       "      <td>52.776</td>\n",
       "      <td>3</td>\n",
       "      <td>0.2</td>\n",
       "      <td>19.7910</td>\n",
       "    </tr>\n",
       "    <tr>\n",
       "      <th>10190</th>\n",
       "      <td>10191</td>\n",
       "      <td>US-2023-115427</td>\n",
       "      <td>2023-12-30</td>\n",
       "      <td>2024-01-03</td>\n",
       "      <td>Standard Class</td>\n",
       "      <td>EB-13975</td>\n",
       "      <td>Erica Bern</td>\n",
       "      <td>Corporate</td>\n",
       "      <td>United States</td>\n",
       "      <td>Fairfield</td>\n",
       "      <td>...</td>\n",
       "      <td>94533</td>\n",
       "      <td>West</td>\n",
       "      <td>OFF-BI-10004632</td>\n",
       "      <td>Office Supplies</td>\n",
       "      <td>Binders</td>\n",
       "      <td>GBC Binding covers</td>\n",
       "      <td>20.720</td>\n",
       "      <td>2</td>\n",
       "      <td>0.2</td>\n",
       "      <td>6.4750</td>\n",
       "    </tr>\n",
       "    <tr>\n",
       "      <th>10191</th>\n",
       "      <td>10192</td>\n",
       "      <td>US-2023-156720</td>\n",
       "      <td>2023-12-30</td>\n",
       "      <td>2024-01-03</td>\n",
       "      <td>Standard Class</td>\n",
       "      <td>JM-15580</td>\n",
       "      <td>Jill Matthias</td>\n",
       "      <td>Consumer</td>\n",
       "      <td>United States</td>\n",
       "      <td>Loveland</td>\n",
       "      <td>...</td>\n",
       "      <td>80538</td>\n",
       "      <td>West</td>\n",
       "      <td>OFF-FA-10003472</td>\n",
       "      <td>Office Supplies</td>\n",
       "      <td>Fasteners</td>\n",
       "      <td>Bagged Rubber Bands</td>\n",
       "      <td>3.024</td>\n",
       "      <td>3</td>\n",
       "      <td>0.2</td>\n",
       "      <td>-0.6048</td>\n",
       "    </tr>\n",
       "    <tr>\n",
       "      <th>10192</th>\n",
       "      <td>10193</td>\n",
       "      <td>US-2023-143259</td>\n",
       "      <td>2023-12-30</td>\n",
       "      <td>2024-01-03</td>\n",
       "      <td>Standard Class</td>\n",
       "      <td>PO-18865</td>\n",
       "      <td>Patrick O'Donnell</td>\n",
       "      <td>Consumer</td>\n",
       "      <td>United States</td>\n",
       "      <td>New York City</td>\n",
       "      <td>...</td>\n",
       "      <td>10009</td>\n",
       "      <td>East</td>\n",
       "      <td>TEC-PH-10004774</td>\n",
       "      <td>Technology</td>\n",
       "      <td>Phones</td>\n",
       "      <td>Gear Head AU3700S Headset</td>\n",
       "      <td>90.930</td>\n",
       "      <td>7</td>\n",
       "      <td>0.0</td>\n",
       "      <td>2.7279</td>\n",
       "    </tr>\n",
       "    <tr>\n",
       "      <th>10193</th>\n",
       "      <td>10194</td>\n",
       "      <td>CA-2023-143500</td>\n",
       "      <td>2023-12-30</td>\n",
       "      <td>2024-01-03</td>\n",
       "      <td>Standard Class</td>\n",
       "      <td>HO-15230</td>\n",
       "      <td>Harry Olson</td>\n",
       "      <td>Consumer</td>\n",
       "      <td>Canada</td>\n",
       "      <td>Charlottetown</td>\n",
       "      <td>...</td>\n",
       "      <td>C0A</td>\n",
       "      <td>East</td>\n",
       "      <td>OFF-BI-10004040</td>\n",
       "      <td>Office Supplies</td>\n",
       "      <td>Binders</td>\n",
       "      <td>Wilson Jones Impact Binders</td>\n",
       "      <td>3.024</td>\n",
       "      <td>3</td>\n",
       "      <td>0.2</td>\n",
       "      <td>-0.6048</td>\n",
       "    </tr>\n",
       "  </tbody>\n",
       "</table>\n",
       "<p>10194 rows × 21 columns</p>\n",
       "</div>"
      ],
      "text/plain": [
       "       Row ID         OrderID Order Date  Ship Date       Ship Mode  \\\n",
       "0           1  US-2020-103800 2020-01-03 2020-01-07  Standard Class   \n",
       "1           2  US-2020-112326 2020-01-04 2020-01-08  Standard Class   \n",
       "2           3  US-2020-112326 2020-01-04 2020-01-08  Standard Class   \n",
       "3           4  US-2020-112326 2020-01-04 2020-01-08  Standard Class   \n",
       "4           5  US-2020-141817 2020-01-05 2020-01-12  Standard Class   \n",
       "...       ...             ...        ...        ...             ...   \n",
       "10189   10190  US-2023-143259 2023-12-30 2024-01-03  Standard Class   \n",
       "10190   10191  US-2023-115427 2023-12-30 2024-01-03  Standard Class   \n",
       "10191   10192  US-2023-156720 2023-12-30 2024-01-03  Standard Class   \n",
       "10192   10193  US-2023-143259 2023-12-30 2024-01-03  Standard Class   \n",
       "10193   10194  CA-2023-143500 2023-12-30 2024-01-03  Standard Class   \n",
       "\n",
       "      Customer ID      Customer Name      Segment Country/Region  \\\n",
       "0        DP-13000      Darren Powers     Consumer  United States   \n",
       "1        PO-19195      Phillina Ober  Home Office  United States   \n",
       "2        PO-19195      Phillina Ober  Home Office  United States   \n",
       "3        PO-19195      Phillina Ober  Home Office  United States   \n",
       "4        MB-18085         Mick Brown     Consumer  United States   \n",
       "...           ...                ...          ...            ...   \n",
       "10189    PO-18865  Patrick O'Donnell     Consumer  United States   \n",
       "10190    EB-13975         Erica Bern    Corporate  United States   \n",
       "10191    JM-15580      Jill Matthias     Consumer  United States   \n",
       "10192    PO-18865  Patrick O'Donnell     Consumer  United States   \n",
       "10193    HO-15230        Harry Olson     Consumer         Canada   \n",
       "\n",
       "                City  ... Postal Code   Region       Product ID  \\\n",
       "0            Houston  ...       77095  Central  OFF-PA-10000174   \n",
       "1         Naperville  ...       60540  Central  OFF-BI-10004094   \n",
       "2         Naperville  ...       60540  Central  OFF-LA-10003223   \n",
       "3         Naperville  ...       60540  Central  OFF-ST-10002743   \n",
       "4       Philadelphia  ...       19143     East  OFF-AR-10003478   \n",
       "...              ...  ...         ...      ...              ...   \n",
       "10189  New York City  ...       10009     East  OFF-BI-10003684   \n",
       "10190      Fairfield  ...       94533     West  OFF-BI-10004632   \n",
       "10191       Loveland  ...       80538     West  OFF-FA-10003472   \n",
       "10192  New York City  ...       10009     East  TEC-PH-10004774   \n",
       "10193  Charlottetown  ...         C0A     East  OFF-BI-10004040   \n",
       "\n",
       "              Category Sub-Category  \\\n",
       "0      Office Supplies        Paper   \n",
       "1      Office Supplies      Binders   \n",
       "2      Office Supplies       Labels   \n",
       "3      Office Supplies      Storage   \n",
       "4      Office Supplies          Art   \n",
       "...                ...          ...   \n",
       "10189  Office Supplies      Binders   \n",
       "10190  Office Supplies      Binders   \n",
       "10191  Office Supplies    Fasteners   \n",
       "10192       Technology       Phones   \n",
       "10193  Office Supplies      Binders   \n",
       "\n",
       "                                            Product Name    Sales  Quantity  \\\n",
       "0      Message Book, Wirebound, Four 5 1/2\" X 4\" Form...   16.448         2   \n",
       "1             GBC Standard Plastic Binding Systems Combs    3.540         2   \n",
       "2                                              Avery 508   11.784         3   \n",
       "3                          SAFCO Boltless Steel Shelving  272.736         3   \n",
       "4      Avery Hi-Liter EverBold Pen Style Fluorescent ...   19.536         3   \n",
       "...                                                  ...      ...       ...   \n",
       "10189               Wilson Jones Legal Size Ring Binders   52.776         3   \n",
       "10190                                 GBC Binding covers   20.720         2   \n",
       "10191                                Bagged Rubber Bands    3.024         3   \n",
       "10192                          Gear Head AU3700S Headset   90.930         7   \n",
       "10193                        Wilson Jones Impact Binders    3.024         3   \n",
       "\n",
       "       Discount   Profit  \n",
       "0           0.2   5.5512  \n",
       "1           0.8  -5.4870  \n",
       "2           0.2   4.2717  \n",
       "3           0.2 -64.7748  \n",
       "4           0.2   4.8840  \n",
       "...         ...      ...  \n",
       "10189       0.2  19.7910  \n",
       "10190       0.2   6.4750  \n",
       "10191       0.2  -0.6048  \n",
       "10192       0.0   2.7279  \n",
       "10193       0.2  -0.6048  \n",
       "\n",
       "[10194 rows x 21 columns]"
      ]
     },
     "execution_count": 25,
     "metadata": {},
     "output_type": "execute_result"
    }
   ],
   "source": [
    "st=pd.read_excel(\"SuperStore.xls\")\n",
    "st"
   ]
  },
  {
   "cell_type": "markdown",
   "id": "fc00256e",
   "metadata": {},
   "source": [
    "### 6. Write the code to show the number of rows and columns in data frame. "
   ]
  },
  {
   "cell_type": "code",
   "execution_count": 26,
   "id": "a118c2a1",
   "metadata": {},
   "outputs": [
    {
     "data": {
      "text/plain": [
       "Index(['Row ID', 'OrderID', 'Order Date', 'Ship Date', 'Ship Mode',\n",
       "       'Customer ID', 'Customer Name', 'Segment', 'Country/Region', 'City',\n",
       "       'State/Province', 'Postal Code', 'Region', 'Product ID', 'Category',\n",
       "       'Sub-Category', 'Product Name', 'Sales', 'Quantity', 'Discount',\n",
       "       'Profit'],\n",
       "      dtype='object')"
      ]
     },
     "execution_count": 26,
     "metadata": {},
     "output_type": "execute_result"
    }
   ],
   "source": [
    "st.columns #for columns name"
   ]
  },
  {
   "cell_type": "code",
   "execution_count": 27,
   "id": "59ca9621",
   "metadata": {},
   "outputs": [
    {
     "name": "stdout",
     "output_type": "stream",
     "text": [
      "No of rows :-  10194\n",
      "No of rows :-  21\n"
     ]
    }
   ],
   "source": [
    "print(\"No of rows :- \",len(st))\n",
    "print(\"No of rows :- \",len(st.columns))"
   ]
  },
  {
   "cell_type": "code",
   "execution_count": 14,
   "id": "63c7dc67",
   "metadata": {},
   "outputs": [
    {
     "ename": "NameError",
     "evalue": "name 'st' is not defined",
     "output_type": "error",
     "traceback": [
      "\u001b[1;31m---------------------------------------------------------------------------\u001b[0m",
      "\u001b[1;31mNameError\u001b[0m                                 Traceback (most recent call last)",
      "\u001b[1;32m~\\AppData\\Local\\Temp\\ipykernel_10068\\2965203254.py\u001b[0m in \u001b[0;36m<module>\u001b[1;34m\u001b[0m\n\u001b[1;32m----> 1\u001b[1;33m \u001b[0mst\u001b[0m\u001b[1;33m.\u001b[0m\u001b[0minfo\u001b[0m\u001b[1;33m(\u001b[0m\u001b[1;33m)\u001b[0m\u001b[1;33m\u001b[0m\u001b[1;33m\u001b[0m\u001b[0m\n\u001b[0m",
      "\u001b[1;31mNameError\u001b[0m: name 'st' is not defined"
     ]
    }
   ],
   "source": [
    "st.info()"
   ]
  },
  {
   "cell_type": "markdown",
   "id": "1f23514e",
   "metadata": {},
   "source": [
    "### 7. How might you show the first few rows of data frame? "
   ]
  },
  {
   "cell_type": "code",
   "execution_count": 28,
   "id": "ab2692ca",
   "metadata": {},
   "outputs": [
    {
     "data": {
      "text/html": [
       "<div>\n",
       "<style scoped>\n",
       "    .dataframe tbody tr th:only-of-type {\n",
       "        vertical-align: middle;\n",
       "    }\n",
       "\n",
       "    .dataframe tbody tr th {\n",
       "        vertical-align: top;\n",
       "    }\n",
       "\n",
       "    .dataframe thead th {\n",
       "        text-align: right;\n",
       "    }\n",
       "</style>\n",
       "<table border=\"1\" class=\"dataframe\">\n",
       "  <thead>\n",
       "    <tr style=\"text-align: right;\">\n",
       "      <th></th>\n",
       "      <th>Row ID</th>\n",
       "      <th>OrderID</th>\n",
       "      <th>Order Date</th>\n",
       "      <th>Ship Date</th>\n",
       "      <th>Ship Mode</th>\n",
       "      <th>Customer ID</th>\n",
       "      <th>Customer Name</th>\n",
       "      <th>Segment</th>\n",
       "      <th>Country/Region</th>\n",
       "      <th>City</th>\n",
       "      <th>...</th>\n",
       "      <th>Postal Code</th>\n",
       "      <th>Region</th>\n",
       "      <th>Product ID</th>\n",
       "      <th>Category</th>\n",
       "      <th>Sub-Category</th>\n",
       "      <th>Product Name</th>\n",
       "      <th>Sales</th>\n",
       "      <th>Quantity</th>\n",
       "      <th>Discount</th>\n",
       "      <th>Profit</th>\n",
       "    </tr>\n",
       "  </thead>\n",
       "  <tbody>\n",
       "    <tr>\n",
       "      <th>0</th>\n",
       "      <td>1</td>\n",
       "      <td>US-2020-103800</td>\n",
       "      <td>2020-01-03</td>\n",
       "      <td>2020-01-07</td>\n",
       "      <td>Standard Class</td>\n",
       "      <td>DP-13000</td>\n",
       "      <td>Darren Powers</td>\n",
       "      <td>Consumer</td>\n",
       "      <td>United States</td>\n",
       "      <td>Houston</td>\n",
       "      <td>...</td>\n",
       "      <td>77095</td>\n",
       "      <td>Central</td>\n",
       "      <td>OFF-PA-10000174</td>\n",
       "      <td>Office Supplies</td>\n",
       "      <td>Paper</td>\n",
       "      <td>Message Book, Wirebound, Four 5 1/2\" X 4\" Form...</td>\n",
       "      <td>16.448</td>\n",
       "      <td>2</td>\n",
       "      <td>0.2</td>\n",
       "      <td>5.5512</td>\n",
       "    </tr>\n",
       "    <tr>\n",
       "      <th>1</th>\n",
       "      <td>2</td>\n",
       "      <td>US-2020-112326</td>\n",
       "      <td>2020-01-04</td>\n",
       "      <td>2020-01-08</td>\n",
       "      <td>Standard Class</td>\n",
       "      <td>PO-19195</td>\n",
       "      <td>Phillina Ober</td>\n",
       "      <td>Home Office</td>\n",
       "      <td>United States</td>\n",
       "      <td>Naperville</td>\n",
       "      <td>...</td>\n",
       "      <td>60540</td>\n",
       "      <td>Central</td>\n",
       "      <td>OFF-BI-10004094</td>\n",
       "      <td>Office Supplies</td>\n",
       "      <td>Binders</td>\n",
       "      <td>GBC Standard Plastic Binding Systems Combs</td>\n",
       "      <td>3.540</td>\n",
       "      <td>2</td>\n",
       "      <td>0.8</td>\n",
       "      <td>-5.4870</td>\n",
       "    </tr>\n",
       "    <tr>\n",
       "      <th>2</th>\n",
       "      <td>3</td>\n",
       "      <td>US-2020-112326</td>\n",
       "      <td>2020-01-04</td>\n",
       "      <td>2020-01-08</td>\n",
       "      <td>Standard Class</td>\n",
       "      <td>PO-19195</td>\n",
       "      <td>Phillina Ober</td>\n",
       "      <td>Home Office</td>\n",
       "      <td>United States</td>\n",
       "      <td>Naperville</td>\n",
       "      <td>...</td>\n",
       "      <td>60540</td>\n",
       "      <td>Central</td>\n",
       "      <td>OFF-LA-10003223</td>\n",
       "      <td>Office Supplies</td>\n",
       "      <td>Labels</td>\n",
       "      <td>Avery 508</td>\n",
       "      <td>11.784</td>\n",
       "      <td>3</td>\n",
       "      <td>0.2</td>\n",
       "      <td>4.2717</td>\n",
       "    </tr>\n",
       "    <tr>\n",
       "      <th>3</th>\n",
       "      <td>4</td>\n",
       "      <td>US-2020-112326</td>\n",
       "      <td>2020-01-04</td>\n",
       "      <td>2020-01-08</td>\n",
       "      <td>Standard Class</td>\n",
       "      <td>PO-19195</td>\n",
       "      <td>Phillina Ober</td>\n",
       "      <td>Home Office</td>\n",
       "      <td>United States</td>\n",
       "      <td>Naperville</td>\n",
       "      <td>...</td>\n",
       "      <td>60540</td>\n",
       "      <td>Central</td>\n",
       "      <td>OFF-ST-10002743</td>\n",
       "      <td>Office Supplies</td>\n",
       "      <td>Storage</td>\n",
       "      <td>SAFCO Boltless Steel Shelving</td>\n",
       "      <td>272.736</td>\n",
       "      <td>3</td>\n",
       "      <td>0.2</td>\n",
       "      <td>-64.7748</td>\n",
       "    </tr>\n",
       "    <tr>\n",
       "      <th>4</th>\n",
       "      <td>5</td>\n",
       "      <td>US-2020-141817</td>\n",
       "      <td>2020-01-05</td>\n",
       "      <td>2020-01-12</td>\n",
       "      <td>Standard Class</td>\n",
       "      <td>MB-18085</td>\n",
       "      <td>Mick Brown</td>\n",
       "      <td>Consumer</td>\n",
       "      <td>United States</td>\n",
       "      <td>Philadelphia</td>\n",
       "      <td>...</td>\n",
       "      <td>19143</td>\n",
       "      <td>East</td>\n",
       "      <td>OFF-AR-10003478</td>\n",
       "      <td>Office Supplies</td>\n",
       "      <td>Art</td>\n",
       "      <td>Avery Hi-Liter EverBold Pen Style Fluorescent ...</td>\n",
       "      <td>19.536</td>\n",
       "      <td>3</td>\n",
       "      <td>0.2</td>\n",
       "      <td>4.8840</td>\n",
       "    </tr>\n",
       "    <tr>\n",
       "      <th>5</th>\n",
       "      <td>6</td>\n",
       "      <td>US-2020-167199</td>\n",
       "      <td>2020-01-06</td>\n",
       "      <td>2020-01-10</td>\n",
       "      <td>Standard Class</td>\n",
       "      <td>ME-17320</td>\n",
       "      <td>Maria Etezadi</td>\n",
       "      <td>Home Office</td>\n",
       "      <td>United States</td>\n",
       "      <td>Henderson</td>\n",
       "      <td>...</td>\n",
       "      <td>42420</td>\n",
       "      <td>South</td>\n",
       "      <td>FUR-CH-10004063</td>\n",
       "      <td>Furniture</td>\n",
       "      <td>Chairs</td>\n",
       "      <td>Global Deluxe High-Back Manager's Chair</td>\n",
       "      <td>2573.820</td>\n",
       "      <td>9</td>\n",
       "      <td>0.0</td>\n",
       "      <td>746.4078</td>\n",
       "    </tr>\n",
       "    <tr>\n",
       "      <th>6</th>\n",
       "      <td>7</td>\n",
       "      <td>US-2020-167199</td>\n",
       "      <td>2020-01-06</td>\n",
       "      <td>2020-01-10</td>\n",
       "      <td>Standard Class</td>\n",
       "      <td>ME-17320</td>\n",
       "      <td>Maria Etezadi</td>\n",
       "      <td>Home Office</td>\n",
       "      <td>United States</td>\n",
       "      <td>Henderson</td>\n",
       "      <td>...</td>\n",
       "      <td>42420</td>\n",
       "      <td>South</td>\n",
       "      <td>OFF-AR-10001662</td>\n",
       "      <td>Office Supplies</td>\n",
       "      <td>Art</td>\n",
       "      <td>Rogers Handheld Barrel Pencil Sharpener</td>\n",
       "      <td>5.480</td>\n",
       "      <td>2</td>\n",
       "      <td>0.0</td>\n",
       "      <td>1.4796</td>\n",
       "    </tr>\n",
       "    <tr>\n",
       "      <th>7</th>\n",
       "      <td>8</td>\n",
       "      <td>US-2020-106054</td>\n",
       "      <td>2020-01-06</td>\n",
       "      <td>2020-01-07</td>\n",
       "      <td>First Class</td>\n",
       "      <td>JO-15145</td>\n",
       "      <td>Jack O'Briant</td>\n",
       "      <td>Corporate</td>\n",
       "      <td>United States</td>\n",
       "      <td>Athens</td>\n",
       "      <td>...</td>\n",
       "      <td>30605</td>\n",
       "      <td>South</td>\n",
       "      <td>OFF-AR-10002399</td>\n",
       "      <td>Office Supplies</td>\n",
       "      <td>Art</td>\n",
       "      <td>Dixon Prang Watercolor Pencils, 10-Color Set w...</td>\n",
       "      <td>12.780</td>\n",
       "      <td>3</td>\n",
       "      <td>0.0</td>\n",
       "      <td>5.2398</td>\n",
       "    </tr>\n",
       "    <tr>\n",
       "      <th>8</th>\n",
       "      <td>9</td>\n",
       "      <td>US-2020-167199</td>\n",
       "      <td>2020-01-06</td>\n",
       "      <td>2020-01-10</td>\n",
       "      <td>Standard Class</td>\n",
       "      <td>ME-17320</td>\n",
       "      <td>Maria Etezadi</td>\n",
       "      <td>Home Office</td>\n",
       "      <td>United States</td>\n",
       "      <td>Henderson</td>\n",
       "      <td>...</td>\n",
       "      <td>42420</td>\n",
       "      <td>South</td>\n",
       "      <td>OFF-BI-10004632</td>\n",
       "      <td>Office Supplies</td>\n",
       "      <td>Binders</td>\n",
       "      <td>Ibico Hi-Tech Manual Binding System</td>\n",
       "      <td>609.980</td>\n",
       "      <td>2</td>\n",
       "      <td>0.0</td>\n",
       "      <td>274.4910</td>\n",
       "    </tr>\n",
       "    <tr>\n",
       "      <th>9</th>\n",
       "      <td>10</td>\n",
       "      <td>US-2020-167199</td>\n",
       "      <td>2020-01-06</td>\n",
       "      <td>2020-01-10</td>\n",
       "      <td>Standard Class</td>\n",
       "      <td>ME-17320</td>\n",
       "      <td>Maria Etezadi</td>\n",
       "      <td>Home Office</td>\n",
       "      <td>United States</td>\n",
       "      <td>Henderson</td>\n",
       "      <td>...</td>\n",
       "      <td>42420</td>\n",
       "      <td>South</td>\n",
       "      <td>OFF-FA-10001883</td>\n",
       "      <td>Office Supplies</td>\n",
       "      <td>Fasteners</td>\n",
       "      <td>Alliance Super-Size Bands, Assorted Sizes</td>\n",
       "      <td>31.120</td>\n",
       "      <td>4</td>\n",
       "      <td>0.0</td>\n",
       "      <td>0.3112</td>\n",
       "    </tr>\n",
       "  </tbody>\n",
       "</table>\n",
       "<p>10 rows × 21 columns</p>\n",
       "</div>"
      ],
      "text/plain": [
       "   Row ID         OrderID Order Date  Ship Date       Ship Mode Customer ID  \\\n",
       "0       1  US-2020-103800 2020-01-03 2020-01-07  Standard Class    DP-13000   \n",
       "1       2  US-2020-112326 2020-01-04 2020-01-08  Standard Class    PO-19195   \n",
       "2       3  US-2020-112326 2020-01-04 2020-01-08  Standard Class    PO-19195   \n",
       "3       4  US-2020-112326 2020-01-04 2020-01-08  Standard Class    PO-19195   \n",
       "4       5  US-2020-141817 2020-01-05 2020-01-12  Standard Class    MB-18085   \n",
       "5       6  US-2020-167199 2020-01-06 2020-01-10  Standard Class    ME-17320   \n",
       "6       7  US-2020-167199 2020-01-06 2020-01-10  Standard Class    ME-17320   \n",
       "7       8  US-2020-106054 2020-01-06 2020-01-07     First Class    JO-15145   \n",
       "8       9  US-2020-167199 2020-01-06 2020-01-10  Standard Class    ME-17320   \n",
       "9      10  US-2020-167199 2020-01-06 2020-01-10  Standard Class    ME-17320   \n",
       "\n",
       "   Customer Name      Segment Country/Region          City  ... Postal Code  \\\n",
       "0  Darren Powers     Consumer  United States       Houston  ...       77095   \n",
       "1  Phillina Ober  Home Office  United States    Naperville  ...       60540   \n",
       "2  Phillina Ober  Home Office  United States    Naperville  ...       60540   \n",
       "3  Phillina Ober  Home Office  United States    Naperville  ...       60540   \n",
       "4     Mick Brown     Consumer  United States  Philadelphia  ...       19143   \n",
       "5  Maria Etezadi  Home Office  United States     Henderson  ...       42420   \n",
       "6  Maria Etezadi  Home Office  United States     Henderson  ...       42420   \n",
       "7  Jack O'Briant    Corporate  United States        Athens  ...       30605   \n",
       "8  Maria Etezadi  Home Office  United States     Henderson  ...       42420   \n",
       "9  Maria Etezadi  Home Office  United States     Henderson  ...       42420   \n",
       "\n",
       "    Region       Product ID         Category Sub-Category  \\\n",
       "0  Central  OFF-PA-10000174  Office Supplies        Paper   \n",
       "1  Central  OFF-BI-10004094  Office Supplies      Binders   \n",
       "2  Central  OFF-LA-10003223  Office Supplies       Labels   \n",
       "3  Central  OFF-ST-10002743  Office Supplies      Storage   \n",
       "4     East  OFF-AR-10003478  Office Supplies          Art   \n",
       "5    South  FUR-CH-10004063        Furniture       Chairs   \n",
       "6    South  OFF-AR-10001662  Office Supplies          Art   \n",
       "7    South  OFF-AR-10002399  Office Supplies          Art   \n",
       "8    South  OFF-BI-10004632  Office Supplies      Binders   \n",
       "9    South  OFF-FA-10001883  Office Supplies    Fasteners   \n",
       "\n",
       "                                        Product Name     Sales  Quantity  \\\n",
       "0  Message Book, Wirebound, Four 5 1/2\" X 4\" Form...    16.448         2   \n",
       "1         GBC Standard Plastic Binding Systems Combs     3.540         2   \n",
       "2                                          Avery 508    11.784         3   \n",
       "3                      SAFCO Boltless Steel Shelving   272.736         3   \n",
       "4  Avery Hi-Liter EverBold Pen Style Fluorescent ...    19.536         3   \n",
       "5            Global Deluxe High-Back Manager's Chair  2573.820         9   \n",
       "6            Rogers Handheld Barrel Pencil Sharpener     5.480         2   \n",
       "7  Dixon Prang Watercolor Pencils, 10-Color Set w...    12.780         3   \n",
       "8                Ibico Hi-Tech Manual Binding System   609.980         2   \n",
       "9          Alliance Super-Size Bands, Assorted Sizes    31.120         4   \n",
       "\n",
       "   Discount    Profit  \n",
       "0       0.2    5.5512  \n",
       "1       0.8   -5.4870  \n",
       "2       0.2    4.2717  \n",
       "3       0.2  -64.7748  \n",
       "4       0.2    4.8840  \n",
       "5       0.0  746.4078  \n",
       "6       0.0    1.4796  \n",
       "7       0.0    5.2398  \n",
       "8       0.0  274.4910  \n",
       "9       0.0    0.3112  \n",
       "\n",
       "[10 rows x 21 columns]"
      ]
     },
     "execution_count": 28,
     "metadata": {},
     "output_type": "execute_result"
    }
   ],
   "source": [
    "st.head(10)"
   ]
  },
  {
   "cell_type": "markdown",
   "id": "194044cd",
   "metadata": {},
   "source": [
    "### 8. If you select a single column from the diamonds Data Frame, what will be the type of the return value? "
   ]
  },
  {
   "cell_type": "code",
   "execution_count": 5,
   "id": "fb418a34",
   "metadata": {},
   "outputs": [],
   "source": [
    "# Object"
   ]
  },
  {
   "cell_type": "markdown",
   "id": "d57614b7",
   "metadata": {},
   "source": [
    "### 9. Create a line plot using the x and y values provided below. Label the y-axis as “Y” and label the x-axis as “X”.\n",
    "### x = [3, 4, 5, 6]\n",
    "### y = [1.5, 2, 2.5, 3] "
   ]
  },
  {
   "cell_type": "code",
   "execution_count": 33,
   "id": "466cafb9",
   "metadata": {
    "scrolled": true
   },
   "outputs": [
    {
     "data": {
      "image/png": "[encoded data removed]",
      "text/plain": [
       "<Figure size 640x480 with 1 Axes>"
      ]
     },
     "metadata": {},
     "output_type": "display_data"
    }
   ],
   "source": [
    "x = np.array([3, 4, 5, 6])\n",
    "y = np.array([1.5, 2, 2.5, 3])\n",
    "\n",
    "plt.plot(x,y)\n",
    "plt.xlabel(\"X\")\n",
    "plt.ylabel(\"Y\")\n",
    "\n",
    "plt.show()"
   ]
  },
  {
   "cell_type": "markdown",
   "id": "0ea20dd7",
   "metadata": {},
   "source": [
    "### 10. Create an array of numbers between 0 and 6 with increments of 0.3 and name its “x”.\n",
    "### Then on the same plot, plot x, x², x³, and x⁴. For consistency, use the following style lines\n",
    "### respectively, “ro”, “bs”, “g”, and “:”. Lastly, make sure that the x-axis covers 0 to 6, while\n",
    "### the y-axis spans from 0 to 125. Do not worry if you are not familiar with the style lines —\n",
    "### you will recognize them as soon as you see the plot. \n"
   ]
  },
  {
   "cell_type": "code",
   "execution_count": 32,
   "id": "7e432dff",
   "metadata": {},
   "outputs": [
    {
     "data": {
      "image/png": "[encoded data removed]",
      "text/plain": [
       "<Figure size 640x480 with 1 Axes>"
      ]
     },
     "metadata": {},
     "output_type": "display_data"
    }
   ],
   "source": [
    "x = np.arange(0, 6, 0.3)\n",
    "plt.plot(x,x, 'ro', x,x**2, 'bs',x, x**3, 'g^',x, x**4, ':')\n",
    "plt.axis([0, 6, 0, 125])\n",
    "plt.show()"
   ]
  },
  {
   "cell_type": "markdown",
   "id": "e5e3e85e",
   "metadata": {},
   "source": [
    "### 11. Heights and initials of a group of individuals are provided below. Create a bar plot titled\n",
    "### “Height Comparison” to compare the heights among this group.\n",
    "### height = [179, 155, 191, 152, 188, 177]\n",
    "### names = ['QA', 'WB', 'EC', 'RD', 'TE', 'YF'] "
   ]
  },
  {
   "cell_type": "code",
   "execution_count": 27,
   "id": "804d29b5",
   "metadata": {},
   "outputs": [
    {
     "data": {
      "image/png": "[encoded data removed]",
      "text/plain": [
       "<Figure size 640x480 with 1 Axes>"
      ]
     },
     "metadata": {},
     "output_type": "display_data"
    }
   ],
   "source": [
    "height = np.array([179, 155, 191, 152, 188, 177])\n",
    "names = np.array(['QA', 'WB', 'EC', 'RD', 'TE', 'YF']) \n",
    "\n",
    "plt.bar(names,height,color = \"blue\",width = 0.25)\n",
    "\n",
    "plt.title(\"Height Comparison\")\n",
    "plt.xlabel(\"Group Names\")\n",
    "plt.ylabel(\"Height\")\n",
    "\n",
    "plt.show()"
   ]
  },
  {
   "cell_type": "markdown",
   "id": "d8273414",
   "metadata": {},
   "source": [
    "### 12. Plot a histogram of x, where x consists of 100,000 randomly-selected points with a normal\n",
    "### distribution (hint: you can use numpy.random.randn() to generate the random points). The\n",
    "### histogram should have 10 bins. Look at how the histogram changes when we try 20 and 50 bins. "
   ]
  },
  {
   "cell_type": "code",
   "execution_count": 30,
   "id": "3c0052fb",
   "metadata": {},
   "outputs": [
    {
     "data": {
      "image/png": "[encoded data removed]",
      "text/plain": [
       "<Figure size 640x480 with 1 Axes>"
      ]
     },
     "metadata": {},
     "output_type": "display_data"
    },
    {
     "data": {
      "image/png": "[encoded data removed]",
      "text/plain": [
       "<Figure size 640x480 with 1 Axes>"
      ]
     },
     "metadata": {},
     "output_type": "display_data"
    },
    {
     "data": {
      "image/png": "[encoded data removed]",
      "text/plain": [
       "<Figure size 640x480 with 1 Axes>"
      ]
     },
     "metadata": {},
     "output_type": "display_data"
    }
   ],
   "source": [
    "np.random.seed(123)\n",
    "point_count = 100000\n",
    "bin_count = [10, 20, 50]\n",
    "x = np.random.randn(point_count)\n",
    "for bc in bin_count:\n",
    "    plt.hist(x, bins = bc)\n",
    "    plt.title(F'Histogram with {bc} bins')\n",
    "    plt.show()"
   ]
  },
  {
   "cell_type": "code",
   "execution_count": null,
   "id": "1fa624e4",
   "metadata": {},
   "outputs": [],
   "source": []
  }
 ],
 "metadata": {
  "kernelspec": {
   "display_name": "Python 3 (ipykernel)",
   "language": "python",
   "name": "python3"
  },
  "language_info": {
   "codemirror_mode": {
    "name": "ipython",
    "version": 3
   },
   "file_extension": ".py",
   "mimetype": "text/x-python",
   "name": "python",
   "nbconvert_exporter": "python",
   "pygments_lexer": "ipython3",
   "version": "3.9.13"
  }
 },
 "nbformat": 4,
 "nbformat_minor": 5
}
